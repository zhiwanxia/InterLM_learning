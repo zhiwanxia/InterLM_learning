{
 "cells": [
  {
   "cell_type": "code",
   "execution_count": 1,
   "metadata": {},
   "outputs": [
    {
     "name": "stdout",
     "output_type": "stream",
     "text": [
      "{'got': 2, 'this': 1, 'panda': 1, 'plush': 1, 'toy': 1, 'for': 3, 'my': 1, 'daughters': 1, 'birthday': 1, 'who': 1, 'loves': 1, 'it': 5, 'and': 3, 'takes': 1, 'everywhere': 1, 'its': 3, 'soft': 1, 'super': 1, 'cute': 1, 'face': 1, 'has': 1, 'a': 3, 'friendly': 1, 'look': 1, 'bit': 1, 'small': 1, 'what': 1, 'i': 4, 'paid': 1, 'though': 1, 'think': 1, 'there': 1, 'might': 1, 'be': 1, 'other': 1, 'options': 1, 'that': 1, 'are': 1, 'bigger': 1, 'the': 1, 'same': 1, 'price': 1, 'arrived': 1, 'day': 1, 'earlier': 1, 'than': 1, 'expected': 1, 'so': 1, 'to': 2, 'play': 1, 'with': 1, 'myself': 1, 'before': 1, 'gave': 1, 'her': 1}\n"
     ]
    }
   ],
   "source": [
    "import string\n",
    "\n",
    "def wordcount(text):\n",
    "    # 去掉标点符号\n",
    "    translator = str.maketrans('', '', string.punctuation)\n",
    "    cleaned_text = text.translate(translator)\n",
    "    \n",
    "    # 转换为小写并拆分成单词\n",
    "    words = cleaned_text.lower().split()\n",
    "    \n",
    "    # 统计每个单词出现的次数\n",
    "    word_count = {}\n",
    "    for word in words:\n",
    "        if word in word_count:\n",
    "            word_count[word] += 1\n",
    "        else:\n",
    "            word_count[word] = 1\n",
    "    \n",
    "    return word_count\n",
    "\n",
    "text = \"\"\"\n",
    "Got this panda plush toy for my daughter's birthday, \n",
    "who loves it and takes it everywhere. It's soft and \n",
    "super cute, and its face has a friendly look. It's \n",
    "a bit small for what I paid though. I think there \n",
    "might be other options that are bigger for the \n",
    "same price. It arrived a day earlier than expected, \n",
    "so I got to play with it myself before I gave it \n",
    "to her.\n",
    "\"\"\"\n",
    "\n",
    "print(wordcount(text))"
   ]
  }
 ],
 "metadata": {
  "kernelspec": {
   "display_name": "qinhao111",
   "language": "python",
   "name": "python3"
  },
  "language_info": {
   "codemirror_mode": {
    "name": "ipython",
    "version": 3
   },
   "file_extension": ".py",
   "mimetype": "text/x-python",
   "name": "python",
   "nbconvert_exporter": "python",
   "pygments_lexer": "ipython3",
   "version": "3.11.0"
  }
 },
 "nbformat": 4,
 "nbformat_minor": 2
}
